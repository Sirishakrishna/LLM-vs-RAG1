{
 "cells": [
  {
   "cell_type": "code",
   "execution_count": 3,
   "id": "a2c0748e",
   "metadata": {},
   "outputs": [
    {
     "name": "stderr",
     "output_type": "stream",
     "text": [
      "No model was supplied, defaulted to sshleifer/distilbart-cnn-12-6 and revision a4f8f3e (https://huggingface.co/sshleifer/distilbart-cnn-12-6).\n",
      "Using a pipeline without specifying a model name and revision in production is not recommended.\n"
     ]
    },
    {
     "data": {
      "application/vnd.jupyter.widget-view+json": {
       "model_id": "96b776ec131a46d2a4d6eb17c2cb5952",
       "version_major": 2,
       "version_minor": 0
      },
      "text/plain": [
       "Downloading:   0%|          | 0.00/1.80k [00:00<?, ?B/s]"
      ]
     },
     "metadata": {},
     "output_type": "display_data"
    },
    {
     "name": "stderr",
     "output_type": "stream",
     "text": [
      "C:\\Users\\NH1327\\AppData\\Roaming\\Python\\Python39\\site-packages\\huggingface_hub\\file_download.py:127: UserWarning: `huggingface_hub` cache-system uses symlinks by default to efficiently store duplicated files but your machine does not support them in C:\\Users\\NH1327\\.cache\\huggingface\\hub. Caching files will still work but in a degraded version that might require more space on your disk. This warning can be disabled by setting the `HF_HUB_DISABLE_SYMLINKS_WARNING` environment variable. For more details, see https://huggingface.co/docs/huggingface_hub/how-to-cache#limitations.\n",
      "To support symlinks on Windows, you either need to activate Developer Mode or to run Python as an administrator. In order to see activate developer mode, see this article: https://docs.microsoft.com/en-us/windows/apps/get-started/enable-your-device-for-development\n",
      "  warnings.warn(message)\n"
     ]
    },
    {
     "data": {
      "application/vnd.jupyter.widget-view+json": {
       "model_id": "d8d8431fea624196b1386129df00a681",
       "version_major": 2,
       "version_minor": 0
      },
      "text/plain": [
       "Downloading:   0%|          | 0.00/1.22G [00:00<?, ?B/s]"
      ]
     },
     "metadata": {},
     "output_type": "display_data"
    },
    {
     "data": {
      "application/vnd.jupyter.widget-view+json": {
       "model_id": "773c1a2c33594d279952d1b878a58440",
       "version_major": 2,
       "version_minor": 0
      },
      "text/plain": [
       "Downloading:   0%|          | 0.00/1.22G [00:00<?, ?B/s]"
      ]
     },
     "metadata": {},
     "output_type": "display_data"
    },
    {
     "data": {
      "application/vnd.jupyter.widget-view+json": {
       "model_id": "d72bb5af533f4d2c8bb7f62bad5684e1",
       "version_major": 2,
       "version_minor": 0
      },
      "text/plain": [
       "Downloading:   0%|          | 0.00/26.0 [00:00<?, ?B/s]"
      ]
     },
     "metadata": {},
     "output_type": "display_data"
    },
    {
     "data": {
      "application/vnd.jupyter.widget-view+json": {
       "model_id": "f4d7f3b0249c47f49f6a4b51156b4bc3",
       "version_major": 2,
       "version_minor": 0
      },
      "text/plain": [
       "Downloading:   0%|          | 0.00/899k [00:00<?, ?B/s]"
      ]
     },
     "metadata": {},
     "output_type": "display_data"
    },
    {
     "data": {
      "application/vnd.jupyter.widget-view+json": {
       "model_id": "5d9dcaa8268f4e98851a0f902039f09a",
       "version_major": 2,
       "version_minor": 0
      },
      "text/plain": [
       "Downloading:   0%|          | 0.00/456k [00:00<?, ?B/s]"
      ]
     },
     "metadata": {},
     "output_type": "display_data"
    },
    {
     "name": "stderr",
     "output_type": "stream",
     "text": [
      "Your max_length is set to 200, but you input_length is only 14. You might consider decreasing max_length manually, e.g. summarizer('...', max_length=7)\n"
     ]
    },
    {
     "name": "stdout",
     "output_type": "stream",
     "text": [
      " What is the current COVID-19 situation in India? What's the current situation in the country? Read the full report from India . Read the entire report by CNN iReport.com: Share your thoughts with us at iReport@dailymailonline.com .\n"
     ]
    }
   ],
   "source": [
    "# Import the transformers library\n",
    "from transformers import pipeline\n",
    "\n",
    "# Create a summarization pipeline using a LLM\n",
    "summarizer = pipeline(\"summarization\")\n",
    "\n",
    "# Define the query\n",
    "query = \"What is the current COVID-19 situation in India?\"\n",
    "\n",
    "# Generate a summary using the LLM\n",
    "summary = summarizer(query, max_length=200)\n",
    "\n",
    "# Print the summary\n",
    "print(summary[0][\"summary_text\"])\n"
   ]
  },
  {
   "cell_type": "code",
   "execution_count": null,
   "id": "cd3de68e",
   "metadata": {
    "scrolled": true
   },
   "outputs": [],
   "source": [
    "from transformers import RagTokenizer, RagRetriever, RagTokenForGeneration\n",
    "\n",
    "# Define the query and context\n",
    "query = \"What is the current COVID-19 situation in India?\"\n",
    "context = query  # Use the same query as context for simplicity\n",
    "\n",
    "# Create a RAG tokenizer\n",
    "tokenizer = RagTokenizer.from_pretrained(\"facebook/rag-token-nq\")\n",
    "\n",
    "# Tokenize the query and context\n",
    "input_ids = tokenizer(query, return_tensors=\"pt\").input_ids\n",
    "context_input_ids = tokenizer(context, return_tensors=\"pt\").input_ids\n",
    "\n",
    "# Repeat the context input_ids to match the expected batch size (n_docs)\n",
    "n_docs = 5  # Adjust based on the model's configuration\n",
    "context_input_ids = context_input_ids.expand(n_docs, -1)\n",
    "\n",
    "# Create attention masks for both input_ids and context_input_ids\n",
    "attention_mask = input_ids.new_ones(input_ids.shape)\n",
    "context_attention_mask = context_input_ids.new_ones(context_input_ids.shape)\n",
    "\n",
    "# Create a RAG model for generation\n",
    "model = RagTokenForGeneration.from_pretrained(\"facebook/rag-token-nq\")\n",
    "\n",
    "# Generate a summary\n",
    "summary_ids = model.generate(\n",
    "    input_ids,\n",
    "    context_input_ids=context_input_ids,\n",
    "    attention_mask=attention_mask,\n",
    "    context_attention_mask=context_attention_mask\n",
    ")\n",
    "\n",
    "# Decode the generated summary\n",
    "summary = tokenizer.decode(summary_ids[0], skip_special_tokens=True)\n",
    "\n",
    "# Print the summary\n",
    "print(summary)\n"
   ]
  },
  {
   "cell_type": "code",
   "execution_count": null,
   "id": "d3e226e6",
   "metadata": {},
   "outputs": [],
   "source": []
  }
 ],
 "metadata": {
  "kernelspec": {
   "display_name": "Python 3 (ipykernel)",
   "language": "python",
   "name": "python3"
  },
  "language_info": {
   "codemirror_mode": {
    "name": "ipython",
    "version": 3
   },
   "file_extension": ".py",
   "mimetype": "text/x-python",
   "name": "python",
   "nbconvert_exporter": "python",
   "pygments_lexer": "ipython3",
   "version": "3.9.12"
  }
 },
 "nbformat": 4,
 "nbformat_minor": 5
}
